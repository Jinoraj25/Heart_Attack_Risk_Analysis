{
 "cells": [
  {
   "cell_type": "markdown",
   "id": "efac6088-3d90-40f2-ae36-8e0744033eb5",
   "metadata": {},
   "source": [
    "                                                HEART DISEASE RISK PREDICTION USING THE FRAMINGHAM STUDY DATASET\n"
   ]
  },
  {
   "cell_type": "markdown",
   "id": "5f86672e-5912-47aa-9ced-1e3fc3adf02e",
   "metadata": {},
   "source": [
    "                                                                    INTRODUCTION\n",
    "The Framingham Heart Study is one of the most important longitudinal studies in medical history, tracking cardiovascular health over decades.  \n",
    "\n",
    "This project focuses on exploring lifestyle and health-related factors such as smoking, diabetes, cholesterol, blood pressure, and BMI to understand their relationship with the 10-year risk of Coronary Heart Disease (CHD).  \n"
   ]
  },
  {
   "cell_type": "code",
   "execution_count": 1,
   "id": "93c47153-6164-4194-accc-030a9e940b49",
   "metadata": {},
   "outputs": [],
   "source": [
    "import pandas as pd\n",
    "df=pd.read_csv(\"Heart attack risk.csv\")"
   ]
  },
  {
   "cell_type": "code",
   "execution_count": 2,
   "id": "f6609228-a126-4e33-a6fb-1a52e50aa373",
   "metadata": {},
   "outputs": [
    {
     "data": {
      "text/html": [
       "<div>\n",
       "<style scoped>\n",
       "    .dataframe tbody tr th:only-of-type {\n",
       "        vertical-align: middle;\n",
       "    }\n",
       "\n",
       "    .dataframe tbody tr th {\n",
       "        vertical-align: top;\n",
       "    }\n",
       "\n",
       "    .dataframe thead th {\n",
       "        text-align: right;\n",
       "    }\n",
       "</style>\n",
       "<table border=\"1\" class=\"dataframe\">\n",
       "  <thead>\n",
       "    <tr style=\"text-align: right;\">\n",
       "      <th></th>\n",
       "      <th>male</th>\n",
       "      <th>age</th>\n",
       "      <th>education</th>\n",
       "      <th>currentSmoker</th>\n",
       "      <th>cigsPerDay</th>\n",
       "      <th>BPMeds</th>\n",
       "      <th>prevalentStroke</th>\n",
       "      <th>prevalentHyp</th>\n",
       "      <th>diabetes</th>\n",
       "      <th>totChol</th>\n",
       "      <th>sysBP</th>\n",
       "      <th>diaBP</th>\n",
       "      <th>BMI</th>\n",
       "      <th>heartRate</th>\n",
       "      <th>glucose</th>\n",
       "      <th>TenYearCHD</th>\n",
       "    </tr>\n",
       "  </thead>\n",
       "  <tbody>\n",
       "    <tr>\n",
       "      <th>0</th>\n",
       "      <td>1</td>\n",
       "      <td>39</td>\n",
       "      <td>4.0</td>\n",
       "      <td>0</td>\n",
       "      <td>0.0</td>\n",
       "      <td>0.0</td>\n",
       "      <td>0</td>\n",
       "      <td>0</td>\n",
       "      <td>0</td>\n",
       "      <td>195.0</td>\n",
       "      <td>106.0</td>\n",
       "      <td>70.0</td>\n",
       "      <td>26.97</td>\n",
       "      <td>80.0</td>\n",
       "      <td>77.0</td>\n",
       "      <td>0</td>\n",
       "    </tr>\n",
       "    <tr>\n",
       "      <th>1</th>\n",
       "      <td>0</td>\n",
       "      <td>46</td>\n",
       "      <td>2.0</td>\n",
       "      <td>0</td>\n",
       "      <td>0.0</td>\n",
       "      <td>0.0</td>\n",
       "      <td>0</td>\n",
       "      <td>0</td>\n",
       "      <td>0</td>\n",
       "      <td>250.0</td>\n",
       "      <td>121.0</td>\n",
       "      <td>81.0</td>\n",
       "      <td>28.73</td>\n",
       "      <td>95.0</td>\n",
       "      <td>76.0</td>\n",
       "      <td>0</td>\n",
       "    </tr>\n",
       "    <tr>\n",
       "      <th>2</th>\n",
       "      <td>1</td>\n",
       "      <td>48</td>\n",
       "      <td>1.0</td>\n",
       "      <td>1</td>\n",
       "      <td>20.0</td>\n",
       "      <td>0.0</td>\n",
       "      <td>0</td>\n",
       "      <td>0</td>\n",
       "      <td>0</td>\n",
       "      <td>245.0</td>\n",
       "      <td>127.5</td>\n",
       "      <td>80.0</td>\n",
       "      <td>25.34</td>\n",
       "      <td>75.0</td>\n",
       "      <td>70.0</td>\n",
       "      <td>0</td>\n",
       "    </tr>\n",
       "    <tr>\n",
       "      <th>3</th>\n",
       "      <td>0</td>\n",
       "      <td>61</td>\n",
       "      <td>3.0</td>\n",
       "      <td>1</td>\n",
       "      <td>30.0</td>\n",
       "      <td>0.0</td>\n",
       "      <td>0</td>\n",
       "      <td>1</td>\n",
       "      <td>0</td>\n",
       "      <td>225.0</td>\n",
       "      <td>150.0</td>\n",
       "      <td>95.0</td>\n",
       "      <td>28.58</td>\n",
       "      <td>65.0</td>\n",
       "      <td>103.0</td>\n",
       "      <td>1</td>\n",
       "    </tr>\n",
       "    <tr>\n",
       "      <th>4</th>\n",
       "      <td>0</td>\n",
       "      <td>46</td>\n",
       "      <td>3.0</td>\n",
       "      <td>1</td>\n",
       "      <td>23.0</td>\n",
       "      <td>0.0</td>\n",
       "      <td>0</td>\n",
       "      <td>0</td>\n",
       "      <td>0</td>\n",
       "      <td>285.0</td>\n",
       "      <td>130.0</td>\n",
       "      <td>84.0</td>\n",
       "      <td>23.10</td>\n",
       "      <td>85.0</td>\n",
       "      <td>85.0</td>\n",
       "      <td>0</td>\n",
       "    </tr>\n",
       "    <tr>\n",
       "      <th>...</th>\n",
       "      <td>...</td>\n",
       "      <td>...</td>\n",
       "      <td>...</td>\n",
       "      <td>...</td>\n",
       "      <td>...</td>\n",
       "      <td>...</td>\n",
       "      <td>...</td>\n",
       "      <td>...</td>\n",
       "      <td>...</td>\n",
       "      <td>...</td>\n",
       "      <td>...</td>\n",
       "      <td>...</td>\n",
       "      <td>...</td>\n",
       "      <td>...</td>\n",
       "      <td>...</td>\n",
       "      <td>...</td>\n",
       "    </tr>\n",
       "    <tr>\n",
       "      <th>4235</th>\n",
       "      <td>0</td>\n",
       "      <td>48</td>\n",
       "      <td>2.0</td>\n",
       "      <td>1</td>\n",
       "      <td>20.0</td>\n",
       "      <td>NaN</td>\n",
       "      <td>0</td>\n",
       "      <td>0</td>\n",
       "      <td>0</td>\n",
       "      <td>248.0</td>\n",
       "      <td>131.0</td>\n",
       "      <td>72.0</td>\n",
       "      <td>22.00</td>\n",
       "      <td>84.0</td>\n",
       "      <td>86.0</td>\n",
       "      <td>0</td>\n",
       "    </tr>\n",
       "    <tr>\n",
       "      <th>4236</th>\n",
       "      <td>0</td>\n",
       "      <td>44</td>\n",
       "      <td>1.0</td>\n",
       "      <td>1</td>\n",
       "      <td>15.0</td>\n",
       "      <td>0.0</td>\n",
       "      <td>0</td>\n",
       "      <td>0</td>\n",
       "      <td>0</td>\n",
       "      <td>210.0</td>\n",
       "      <td>126.5</td>\n",
       "      <td>87.0</td>\n",
       "      <td>19.16</td>\n",
       "      <td>86.0</td>\n",
       "      <td>NaN</td>\n",
       "      <td>0</td>\n",
       "    </tr>\n",
       "    <tr>\n",
       "      <th>4237</th>\n",
       "      <td>0</td>\n",
       "      <td>52</td>\n",
       "      <td>2.0</td>\n",
       "      <td>0</td>\n",
       "      <td>0.0</td>\n",
       "      <td>0.0</td>\n",
       "      <td>0</td>\n",
       "      <td>0</td>\n",
       "      <td>0</td>\n",
       "      <td>269.0</td>\n",
       "      <td>133.5</td>\n",
       "      <td>83.0</td>\n",
       "      <td>21.47</td>\n",
       "      <td>80.0</td>\n",
       "      <td>107.0</td>\n",
       "      <td>0</td>\n",
       "    </tr>\n",
       "    <tr>\n",
       "      <th>4238</th>\n",
       "      <td>1</td>\n",
       "      <td>40</td>\n",
       "      <td>3.0</td>\n",
       "      <td>0</td>\n",
       "      <td>0.0</td>\n",
       "      <td>0.0</td>\n",
       "      <td>0</td>\n",
       "      <td>1</td>\n",
       "      <td>0</td>\n",
       "      <td>185.0</td>\n",
       "      <td>141.0</td>\n",
       "      <td>98.0</td>\n",
       "      <td>25.60</td>\n",
       "      <td>67.0</td>\n",
       "      <td>72.0</td>\n",
       "      <td>0</td>\n",
       "    </tr>\n",
       "    <tr>\n",
       "      <th>4239</th>\n",
       "      <td>0</td>\n",
       "      <td>39</td>\n",
       "      <td>3.0</td>\n",
       "      <td>1</td>\n",
       "      <td>30.0</td>\n",
       "      <td>0.0</td>\n",
       "      <td>0</td>\n",
       "      <td>0</td>\n",
       "      <td>0</td>\n",
       "      <td>196.0</td>\n",
       "      <td>133.0</td>\n",
       "      <td>86.0</td>\n",
       "      <td>20.91</td>\n",
       "      <td>85.0</td>\n",
       "      <td>80.0</td>\n",
       "      <td>0</td>\n",
       "    </tr>\n",
       "  </tbody>\n",
       "</table>\n",
       "<p>4240 rows × 16 columns</p>\n",
       "</div>"
      ],
      "text/plain": [
       "      male  age  education  currentSmoker  cigsPerDay  BPMeds  \\\n",
       "0        1   39        4.0              0         0.0     0.0   \n",
       "1        0   46        2.0              0         0.0     0.0   \n",
       "2        1   48        1.0              1        20.0     0.0   \n",
       "3        0   61        3.0              1        30.0     0.0   \n",
       "4        0   46        3.0              1        23.0     0.0   \n",
       "...    ...  ...        ...            ...         ...     ...   \n",
       "4235     0   48        2.0              1        20.0     NaN   \n",
       "4236     0   44        1.0              1        15.0     0.0   \n",
       "4237     0   52        2.0              0         0.0     0.0   \n",
       "4238     1   40        3.0              0         0.0     0.0   \n",
       "4239     0   39        3.0              1        30.0     0.0   \n",
       "\n",
       "      prevalentStroke  prevalentHyp  diabetes  totChol  sysBP  diaBP    BMI  \\\n",
       "0                   0             0         0    195.0  106.0   70.0  26.97   \n",
       "1                   0             0         0    250.0  121.0   81.0  28.73   \n",
       "2                   0             0         0    245.0  127.5   80.0  25.34   \n",
       "3                   0             1         0    225.0  150.0   95.0  28.58   \n",
       "4                   0             0         0    285.0  130.0   84.0  23.10   \n",
       "...               ...           ...       ...      ...    ...    ...    ...   \n",
       "4235                0             0         0    248.0  131.0   72.0  22.00   \n",
       "4236                0             0         0    210.0  126.5   87.0  19.16   \n",
       "4237                0             0         0    269.0  133.5   83.0  21.47   \n",
       "4238                0             1         0    185.0  141.0   98.0  25.60   \n",
       "4239                0             0         0    196.0  133.0   86.0  20.91   \n",
       "\n",
       "      heartRate  glucose  TenYearCHD  \n",
       "0          80.0     77.0           0  \n",
       "1          95.0     76.0           0  \n",
       "2          75.0     70.0           0  \n",
       "3          65.0    103.0           1  \n",
       "4          85.0     85.0           0  \n",
       "...         ...      ...         ...  \n",
       "4235       84.0     86.0           0  \n",
       "4236       86.0      NaN           0  \n",
       "4237       80.0    107.0           0  \n",
       "4238       67.0     72.0           0  \n",
       "4239       85.0     80.0           0  \n",
       "\n",
       "[4240 rows x 16 columns]"
      ]
     },
     "execution_count": 2,
     "metadata": {},
     "output_type": "execute_result"
    }
   ],
   "source": [
    "df"
   ]
  },
  {
   "cell_type": "code",
   "execution_count": 3,
   "id": "9c1bf95b-9f69-4cc7-98da-7d3b1016e942",
   "metadata": {},
   "outputs": [
    {
     "data": {
      "text/plain": [
       "(4240, 16)"
      ]
     },
     "execution_count": 3,
     "metadata": {},
     "output_type": "execute_result"
    }
   ],
   "source": [
    "df.shape"
   ]
  },
  {
   "cell_type": "code",
   "execution_count": 4,
   "id": "6758c565-1fbd-45db-9809-cd53168bb420",
   "metadata": {},
   "outputs": [
    {
     "data": {
      "text/plain": [
       "Index(['male', 'age', 'education', 'currentSmoker', 'cigsPerDay', 'BPMeds',\n",
       "       'prevalentStroke', 'prevalentHyp', 'diabetes', 'totChol', 'sysBP',\n",
       "       'diaBP', 'BMI', 'heartRate', 'glucose', 'TenYearCHD'],\n",
       "      dtype='object')"
      ]
     },
     "execution_count": 4,
     "metadata": {},
     "output_type": "execute_result"
    }
   ],
   "source": [
    "df.columns"
   ]
  },
  {
   "cell_type": "code",
   "execution_count": 5,
   "id": "eb6f3aee-21ed-4c1f-b770-b8a2d6473575",
   "metadata": {},
   "outputs": [
    {
     "data": {
      "text/plain": [
       "RangeIndex(start=0, stop=4240, step=1)"
      ]
     },
     "execution_count": 5,
     "metadata": {},
     "output_type": "execute_result"
    }
   ],
   "source": [
    "df.index"
   ]
  },
  {
   "cell_type": "code",
   "execution_count": 6,
   "id": "16525f3f-3aa9-46f2-b54f-3ea4f40cfe42",
   "metadata": {},
   "outputs": [
    {
     "name": "stdout",
     "output_type": "stream",
     "text": [
      "<class 'pandas.core.frame.DataFrame'>\n",
      "RangeIndex: 4240 entries, 0 to 4239\n",
      "Data columns (total 16 columns):\n",
      " #   Column           Non-Null Count  Dtype  \n",
      "---  ------           --------------  -----  \n",
      " 0   male             4240 non-null   int64  \n",
      " 1   age              4240 non-null   int64  \n",
      " 2   education        4135 non-null   float64\n",
      " 3   currentSmoker    4240 non-null   int64  \n",
      " 4   cigsPerDay       4211 non-null   float64\n",
      " 5   BPMeds           4187 non-null   float64\n",
      " 6   prevalentStroke  4240 non-null   int64  \n",
      " 7   prevalentHyp     4240 non-null   int64  \n",
      " 8   diabetes         4240 non-null   int64  \n",
      " 9   totChol          4190 non-null   float64\n",
      " 10  sysBP            4240 non-null   float64\n",
      " 11  diaBP            4240 non-null   float64\n",
      " 12  BMI              4221 non-null   float64\n",
      " 13  heartRate        4239 non-null   float64\n",
      " 14  glucose          3852 non-null   float64\n",
      " 15  TenYearCHD       4240 non-null   int64  \n",
      "dtypes: float64(9), int64(7)\n",
      "memory usage: 530.1 KB\n"
     ]
    }
   ],
   "source": [
    "df.info()"
   ]
  },
  {
   "cell_type": "code",
   "execution_count": 7,
   "id": "6b0d3583-801e-4ca2-9bdd-58c98a5aaa3a",
   "metadata": {},
   "outputs": [
    {
     "data": {
      "text/html": [
       "<div>\n",
       "<style scoped>\n",
       "    .dataframe tbody tr th:only-of-type {\n",
       "        vertical-align: middle;\n",
       "    }\n",
       "\n",
       "    .dataframe tbody tr th {\n",
       "        vertical-align: top;\n",
       "    }\n",
       "\n",
       "    .dataframe thead th {\n",
       "        text-align: right;\n",
       "    }\n",
       "</style>\n",
       "<table border=\"1\" class=\"dataframe\">\n",
       "  <thead>\n",
       "    <tr style=\"text-align: right;\">\n",
       "      <th></th>\n",
       "      <th>male</th>\n",
       "      <th>age</th>\n",
       "      <th>education</th>\n",
       "      <th>currentSmoker</th>\n",
       "      <th>cigsPerDay</th>\n",
       "      <th>BPMeds</th>\n",
       "      <th>prevalentStroke</th>\n",
       "      <th>prevalentHyp</th>\n",
       "      <th>diabetes</th>\n",
       "      <th>totChol</th>\n",
       "      <th>sysBP</th>\n",
       "      <th>diaBP</th>\n",
       "      <th>BMI</th>\n",
       "      <th>heartRate</th>\n",
       "      <th>glucose</th>\n",
       "      <th>TenYearCHD</th>\n",
       "    </tr>\n",
       "  </thead>\n",
       "  <tbody>\n",
       "    <tr>\n",
       "      <th>count</th>\n",
       "      <td>4240.000000</td>\n",
       "      <td>4240.000000</td>\n",
       "      <td>4135.000000</td>\n",
       "      <td>4240.000000</td>\n",
       "      <td>4211.000000</td>\n",
       "      <td>4187.000000</td>\n",
       "      <td>4240.000000</td>\n",
       "      <td>4240.000000</td>\n",
       "      <td>4240.000000</td>\n",
       "      <td>4190.000000</td>\n",
       "      <td>4240.000000</td>\n",
       "      <td>4240.000000</td>\n",
       "      <td>4221.000000</td>\n",
       "      <td>4239.000000</td>\n",
       "      <td>3852.000000</td>\n",
       "      <td>4240.000000</td>\n",
       "    </tr>\n",
       "    <tr>\n",
       "      <th>mean</th>\n",
       "      <td>0.429245</td>\n",
       "      <td>49.580189</td>\n",
       "      <td>1.979444</td>\n",
       "      <td>0.494104</td>\n",
       "      <td>9.005937</td>\n",
       "      <td>0.029615</td>\n",
       "      <td>0.005896</td>\n",
       "      <td>0.310613</td>\n",
       "      <td>0.025708</td>\n",
       "      <td>236.699523</td>\n",
       "      <td>132.354599</td>\n",
       "      <td>82.897759</td>\n",
       "      <td>25.800801</td>\n",
       "      <td>75.878981</td>\n",
       "      <td>81.963655</td>\n",
       "      <td>0.151887</td>\n",
       "    </tr>\n",
       "    <tr>\n",
       "      <th>std</th>\n",
       "      <td>0.495027</td>\n",
       "      <td>8.572942</td>\n",
       "      <td>1.019791</td>\n",
       "      <td>0.500024</td>\n",
       "      <td>11.922462</td>\n",
       "      <td>0.169544</td>\n",
       "      <td>0.076569</td>\n",
       "      <td>0.462799</td>\n",
       "      <td>0.158280</td>\n",
       "      <td>44.591284</td>\n",
       "      <td>22.033300</td>\n",
       "      <td>11.910394</td>\n",
       "      <td>4.079840</td>\n",
       "      <td>12.025348</td>\n",
       "      <td>23.954335</td>\n",
       "      <td>0.358953</td>\n",
       "    </tr>\n",
       "    <tr>\n",
       "      <th>min</th>\n",
       "      <td>0.000000</td>\n",
       "      <td>32.000000</td>\n",
       "      <td>1.000000</td>\n",
       "      <td>0.000000</td>\n",
       "      <td>0.000000</td>\n",
       "      <td>0.000000</td>\n",
       "      <td>0.000000</td>\n",
       "      <td>0.000000</td>\n",
       "      <td>0.000000</td>\n",
       "      <td>107.000000</td>\n",
       "      <td>83.500000</td>\n",
       "      <td>48.000000</td>\n",
       "      <td>15.540000</td>\n",
       "      <td>44.000000</td>\n",
       "      <td>40.000000</td>\n",
       "      <td>0.000000</td>\n",
       "    </tr>\n",
       "    <tr>\n",
       "      <th>25%</th>\n",
       "      <td>0.000000</td>\n",
       "      <td>42.000000</td>\n",
       "      <td>1.000000</td>\n",
       "      <td>0.000000</td>\n",
       "      <td>0.000000</td>\n",
       "      <td>0.000000</td>\n",
       "      <td>0.000000</td>\n",
       "      <td>0.000000</td>\n",
       "      <td>0.000000</td>\n",
       "      <td>206.000000</td>\n",
       "      <td>117.000000</td>\n",
       "      <td>75.000000</td>\n",
       "      <td>23.070000</td>\n",
       "      <td>68.000000</td>\n",
       "      <td>71.000000</td>\n",
       "      <td>0.000000</td>\n",
       "    </tr>\n",
       "    <tr>\n",
       "      <th>50%</th>\n",
       "      <td>0.000000</td>\n",
       "      <td>49.000000</td>\n",
       "      <td>2.000000</td>\n",
       "      <td>0.000000</td>\n",
       "      <td>0.000000</td>\n",
       "      <td>0.000000</td>\n",
       "      <td>0.000000</td>\n",
       "      <td>0.000000</td>\n",
       "      <td>0.000000</td>\n",
       "      <td>234.000000</td>\n",
       "      <td>128.000000</td>\n",
       "      <td>82.000000</td>\n",
       "      <td>25.400000</td>\n",
       "      <td>75.000000</td>\n",
       "      <td>78.000000</td>\n",
       "      <td>0.000000</td>\n",
       "    </tr>\n",
       "    <tr>\n",
       "      <th>75%</th>\n",
       "      <td>1.000000</td>\n",
       "      <td>56.000000</td>\n",
       "      <td>3.000000</td>\n",
       "      <td>1.000000</td>\n",
       "      <td>20.000000</td>\n",
       "      <td>0.000000</td>\n",
       "      <td>0.000000</td>\n",
       "      <td>1.000000</td>\n",
       "      <td>0.000000</td>\n",
       "      <td>263.000000</td>\n",
       "      <td>144.000000</td>\n",
       "      <td>90.000000</td>\n",
       "      <td>28.040000</td>\n",
       "      <td>83.000000</td>\n",
       "      <td>87.000000</td>\n",
       "      <td>0.000000</td>\n",
       "    </tr>\n",
       "    <tr>\n",
       "      <th>max</th>\n",
       "      <td>1.000000</td>\n",
       "      <td>70.000000</td>\n",
       "      <td>4.000000</td>\n",
       "      <td>1.000000</td>\n",
       "      <td>70.000000</td>\n",
       "      <td>1.000000</td>\n",
       "      <td>1.000000</td>\n",
       "      <td>1.000000</td>\n",
       "      <td>1.000000</td>\n",
       "      <td>696.000000</td>\n",
       "      <td>295.000000</td>\n",
       "      <td>142.500000</td>\n",
       "      <td>56.800000</td>\n",
       "      <td>143.000000</td>\n",
       "      <td>394.000000</td>\n",
       "      <td>1.000000</td>\n",
       "    </tr>\n",
       "  </tbody>\n",
       "</table>\n",
       "</div>"
      ],
      "text/plain": [
       "              male          age    education  currentSmoker   cigsPerDay  \\\n",
       "count  4240.000000  4240.000000  4135.000000    4240.000000  4211.000000   \n",
       "mean      0.429245    49.580189     1.979444       0.494104     9.005937   \n",
       "std       0.495027     8.572942     1.019791       0.500024    11.922462   \n",
       "min       0.000000    32.000000     1.000000       0.000000     0.000000   \n",
       "25%       0.000000    42.000000     1.000000       0.000000     0.000000   \n",
       "50%       0.000000    49.000000     2.000000       0.000000     0.000000   \n",
       "75%       1.000000    56.000000     3.000000       1.000000    20.000000   \n",
       "max       1.000000    70.000000     4.000000       1.000000    70.000000   \n",
       "\n",
       "            BPMeds  prevalentStroke  prevalentHyp     diabetes      totChol  \\\n",
       "count  4187.000000      4240.000000   4240.000000  4240.000000  4190.000000   \n",
       "mean      0.029615         0.005896      0.310613     0.025708   236.699523   \n",
       "std       0.169544         0.076569      0.462799     0.158280    44.591284   \n",
       "min       0.000000         0.000000      0.000000     0.000000   107.000000   \n",
       "25%       0.000000         0.000000      0.000000     0.000000   206.000000   \n",
       "50%       0.000000         0.000000      0.000000     0.000000   234.000000   \n",
       "75%       0.000000         0.000000      1.000000     0.000000   263.000000   \n",
       "max       1.000000         1.000000      1.000000     1.000000   696.000000   \n",
       "\n",
       "             sysBP        diaBP          BMI    heartRate      glucose  \\\n",
       "count  4240.000000  4240.000000  4221.000000  4239.000000  3852.000000   \n",
       "mean    132.354599    82.897759    25.800801    75.878981    81.963655   \n",
       "std      22.033300    11.910394     4.079840    12.025348    23.954335   \n",
       "min      83.500000    48.000000    15.540000    44.000000    40.000000   \n",
       "25%     117.000000    75.000000    23.070000    68.000000    71.000000   \n",
       "50%     128.000000    82.000000    25.400000    75.000000    78.000000   \n",
       "75%     144.000000    90.000000    28.040000    83.000000    87.000000   \n",
       "max     295.000000   142.500000    56.800000   143.000000   394.000000   \n",
       "\n",
       "        TenYearCHD  \n",
       "count  4240.000000  \n",
       "mean      0.151887  \n",
       "std       0.358953  \n",
       "min       0.000000  \n",
       "25%       0.000000  \n",
       "50%       0.000000  \n",
       "75%       0.000000  \n",
       "max       1.000000  "
      ]
     },
     "execution_count": 7,
     "metadata": {},
     "output_type": "execute_result"
    }
   ],
   "source": [
    "df.describe()"
   ]
  },
  {
   "cell_type": "code",
   "execution_count": 8,
   "id": "86b0f083-311f-45e5-b618-002b2e3cc7a5",
   "metadata": {},
   "outputs": [],
   "source": [
    "df.drop(\"education\",axis=1,inplace=True)"
   ]
  },
  {
   "cell_type": "code",
   "execution_count": 9,
   "id": "36a06fbb-5499-45de-ab31-515934818535",
   "metadata": {},
   "outputs": [],
   "source": [
    "df.rename(columns={\"male\":\"Gender\",\"age\":\"Age\",\"currentSmoker\":\"Smoking\",\"cigsPerDay\":\"Cigarettes_Per_Day\",\"BPMeds\":\"BP_Med\",\"prevalentStroke\":\"Stroke_History\",\"prevalentHyp\":\"Hypertension\",\"diabetes\":\"Diabetes\",\"totChol\":\"Total_Cholesterol\",\"sysBP\":\"Systolic_BP\",\"diaBP\":\"Diastolic_BP\",\"BMI\":\"BMI\",\"heartRate\":\"Heart_Rate\",\"glucose\":\"Glucose_Level\",\"TenYearCHD\":\"Ten_Year_CHD\"},inplace=True)"
   ]
  },
  {
   "cell_type": "code",
   "execution_count": 10,
   "id": "7f0ff936-5a1f-4faa-82d8-e7dbf9cec7c1",
   "metadata": {},
   "outputs": [],
   "source": [
    "df[\"Gender\"] = df[\"Gender\"].replace({1:\"Male\",0:\"Female\"})"
   ]
  },
  {
   "cell_type": "code",
   "execution_count": 11,
   "id": "7f7ea559-870d-4c8b-8be0-b74d352acbda",
   "metadata": {},
   "outputs": [],
   "source": [
    "df[\"Smoking\"] = df[\"Smoking\"].replace({1:\"Smoker\",0:\"Non-smoker\"})"
   ]
  },
  {
   "cell_type": "code",
   "execution_count": 12,
   "id": "f744d78e-497b-430b-9a13-30daad60de6e",
   "metadata": {},
   "outputs": [],
   "source": [
    "df[\"Hypertension\"] = df['Hypertension'].replace({1:\"Yes\",0:\"No\"})"
   ]
  },
  {
   "cell_type": "code",
   "execution_count": 13,
   "id": "d7e3b021-7271-4359-b797-da282eabe7eb",
   "metadata": {},
   "outputs": [],
   "source": [
    "df[\"Diabetes\"] = df[\"Diabetes\"].replace({1:\"Yes\",0:\"No\"})"
   ]
  },
  {
   "cell_type": "code",
   "execution_count": 14,
   "id": "b32ca327-7c1d-475f-a79b-fca21d5b9be4",
   "metadata": {},
   "outputs": [],
   "source": [
    "df[\"BP_Med\"] = df[\"BP_Med\"].replace({1.0:\"Yes\",0.0:\"No\"})"
   ]
  },
  {
   "cell_type": "code",
   "execution_count": 15,
   "id": "9469b154-8224-420d-a233-4a0658c52819",
   "metadata": {},
   "outputs": [],
   "source": [
    "df[\"Stroke_History\"] = df[\"Stroke_History\"].replace({1:\"Yes\",0:\"No\"})"
   ]
  },
  {
   "cell_type": "code",
   "execution_count": 16,
   "id": "1c0f8d74-3dee-448d-9fbb-2871eedb8a89",
   "metadata": {},
   "outputs": [],
   "source": [
    "df[\"Ten_Year_CHD\"] = df[\"Ten_Year_CHD\"].replace({1:\"Risk\",0:\"No Risk\"})"
   ]
  },
  {
   "cell_type": "code",
   "execution_count": 17,
   "id": "32252698-d013-4851-aa70-2c35859195c6",
   "metadata": {},
   "outputs": [
    {
     "data": {
      "text/html": [
       "<div>\n",
       "<style scoped>\n",
       "    .dataframe tbody tr th:only-of-type {\n",
       "        vertical-align: middle;\n",
       "    }\n",
       "\n",
       "    .dataframe tbody tr th {\n",
       "        vertical-align: top;\n",
       "    }\n",
       "\n",
       "    .dataframe thead th {\n",
       "        text-align: right;\n",
       "    }\n",
       "</style>\n",
       "<table border=\"1\" class=\"dataframe\">\n",
       "  <thead>\n",
       "    <tr style=\"text-align: right;\">\n",
       "      <th></th>\n",
       "      <th>Gender</th>\n",
       "      <th>Age</th>\n",
       "      <th>Smoking</th>\n",
       "      <th>Cigarettes_Per_Day</th>\n",
       "      <th>BP_Med</th>\n",
       "      <th>Stroke_History</th>\n",
       "      <th>Hypertension</th>\n",
       "      <th>Diabetes</th>\n",
       "      <th>Total_Cholesterol</th>\n",
       "      <th>Systolic_BP</th>\n",
       "      <th>Diastolic_BP</th>\n",
       "      <th>BMI</th>\n",
       "      <th>Heart_Rate</th>\n",
       "      <th>Glucose_Level</th>\n",
       "      <th>Ten_Year_CHD</th>\n",
       "    </tr>\n",
       "  </thead>\n",
       "  <tbody>\n",
       "    <tr>\n",
       "      <th>0</th>\n",
       "      <td>Male</td>\n",
       "      <td>39</td>\n",
       "      <td>Non-smoker</td>\n",
       "      <td>0.0</td>\n",
       "      <td>No</td>\n",
       "      <td>No</td>\n",
       "      <td>No</td>\n",
       "      <td>No</td>\n",
       "      <td>195.0</td>\n",
       "      <td>106.0</td>\n",
       "      <td>70.0</td>\n",
       "      <td>26.97</td>\n",
       "      <td>80.0</td>\n",
       "      <td>77.0</td>\n",
       "      <td>No Risk</td>\n",
       "    </tr>\n",
       "    <tr>\n",
       "      <th>1</th>\n",
       "      <td>Female</td>\n",
       "      <td>46</td>\n",
       "      <td>Non-smoker</td>\n",
       "      <td>0.0</td>\n",
       "      <td>No</td>\n",
       "      <td>No</td>\n",
       "      <td>No</td>\n",
       "      <td>No</td>\n",
       "      <td>250.0</td>\n",
       "      <td>121.0</td>\n",
       "      <td>81.0</td>\n",
       "      <td>28.73</td>\n",
       "      <td>95.0</td>\n",
       "      <td>76.0</td>\n",
       "      <td>No Risk</td>\n",
       "    </tr>\n",
       "    <tr>\n",
       "      <th>2</th>\n",
       "      <td>Male</td>\n",
       "      <td>48</td>\n",
       "      <td>Smoker</td>\n",
       "      <td>20.0</td>\n",
       "      <td>No</td>\n",
       "      <td>No</td>\n",
       "      <td>No</td>\n",
       "      <td>No</td>\n",
       "      <td>245.0</td>\n",
       "      <td>127.5</td>\n",
       "      <td>80.0</td>\n",
       "      <td>25.34</td>\n",
       "      <td>75.0</td>\n",
       "      <td>70.0</td>\n",
       "      <td>No Risk</td>\n",
       "    </tr>\n",
       "    <tr>\n",
       "      <th>3</th>\n",
       "      <td>Female</td>\n",
       "      <td>61</td>\n",
       "      <td>Smoker</td>\n",
       "      <td>30.0</td>\n",
       "      <td>No</td>\n",
       "      <td>No</td>\n",
       "      <td>Yes</td>\n",
       "      <td>No</td>\n",
       "      <td>225.0</td>\n",
       "      <td>150.0</td>\n",
       "      <td>95.0</td>\n",
       "      <td>28.58</td>\n",
       "      <td>65.0</td>\n",
       "      <td>103.0</td>\n",
       "      <td>Risk</td>\n",
       "    </tr>\n",
       "    <tr>\n",
       "      <th>4</th>\n",
       "      <td>Female</td>\n",
       "      <td>46</td>\n",
       "      <td>Smoker</td>\n",
       "      <td>23.0</td>\n",
       "      <td>No</td>\n",
       "      <td>No</td>\n",
       "      <td>No</td>\n",
       "      <td>No</td>\n",
       "      <td>285.0</td>\n",
       "      <td>130.0</td>\n",
       "      <td>84.0</td>\n",
       "      <td>23.10</td>\n",
       "      <td>85.0</td>\n",
       "      <td>85.0</td>\n",
       "      <td>No Risk</td>\n",
       "    </tr>\n",
       "  </tbody>\n",
       "</table>\n",
       "</div>"
      ],
      "text/plain": [
       "   Gender  Age     Smoking  Cigarettes_Per_Day BP_Med Stroke_History  \\\n",
       "0    Male   39  Non-smoker                 0.0     No             No   \n",
       "1  Female   46  Non-smoker                 0.0     No             No   \n",
       "2    Male   48      Smoker                20.0     No             No   \n",
       "3  Female   61      Smoker                30.0     No             No   \n",
       "4  Female   46      Smoker                23.0     No             No   \n",
       "\n",
       "  Hypertension Diabetes  Total_Cholesterol  Systolic_BP  Diastolic_BP    BMI  \\\n",
       "0           No       No              195.0        106.0          70.0  26.97   \n",
       "1           No       No              250.0        121.0          81.0  28.73   \n",
       "2           No       No              245.0        127.5          80.0  25.34   \n",
       "3          Yes       No              225.0        150.0          95.0  28.58   \n",
       "4           No       No              285.0        130.0          84.0  23.10   \n",
       "\n",
       "   Heart_Rate  Glucose_Level Ten_Year_CHD  \n",
       "0        80.0           77.0      No Risk  \n",
       "1        95.0           76.0      No Risk  \n",
       "2        75.0           70.0      No Risk  \n",
       "3        65.0          103.0         Risk  \n",
       "4        85.0           85.0      No Risk  "
      ]
     },
     "execution_count": 17,
     "metadata": {},
     "output_type": "execute_result"
    }
   ],
   "source": [
    "df.head()"
   ]
  },
  {
   "cell_type": "code",
   "execution_count": 18,
   "id": "a61a2213-e115-4c99-83a6-04a5eb73dc7e",
   "metadata": {},
   "outputs": [
    {
     "data": {
      "text/html": [
       "<div>\n",
       "<style scoped>\n",
       "    .dataframe tbody tr th:only-of-type {\n",
       "        vertical-align: middle;\n",
       "    }\n",
       "\n",
       "    .dataframe tbody tr th {\n",
       "        vertical-align: top;\n",
       "    }\n",
       "\n",
       "    .dataframe thead th {\n",
       "        text-align: right;\n",
       "    }\n",
       "</style>\n",
       "<table border=\"1\" class=\"dataframe\">\n",
       "  <thead>\n",
       "    <tr style=\"text-align: right;\">\n",
       "      <th></th>\n",
       "      <th>Gender</th>\n",
       "      <th>Age</th>\n",
       "      <th>Smoking</th>\n",
       "      <th>Cigarettes_Per_Day</th>\n",
       "      <th>BP_Med</th>\n",
       "      <th>Stroke_History</th>\n",
       "      <th>Hypertension</th>\n",
       "      <th>Diabetes</th>\n",
       "      <th>Total_Cholesterol</th>\n",
       "      <th>Systolic_BP</th>\n",
       "      <th>Diastolic_BP</th>\n",
       "      <th>BMI</th>\n",
       "      <th>Heart_Rate</th>\n",
       "      <th>Glucose_Level</th>\n",
       "      <th>Ten_Year_CHD</th>\n",
       "    </tr>\n",
       "  </thead>\n",
       "  <tbody>\n",
       "    <tr>\n",
       "      <th>4235</th>\n",
       "      <td>Female</td>\n",
       "      <td>48</td>\n",
       "      <td>Smoker</td>\n",
       "      <td>20.0</td>\n",
       "      <td>NaN</td>\n",
       "      <td>No</td>\n",
       "      <td>No</td>\n",
       "      <td>No</td>\n",
       "      <td>248.0</td>\n",
       "      <td>131.0</td>\n",
       "      <td>72.0</td>\n",
       "      <td>22.00</td>\n",
       "      <td>84.0</td>\n",
       "      <td>86.0</td>\n",
       "      <td>No Risk</td>\n",
       "    </tr>\n",
       "    <tr>\n",
       "      <th>4236</th>\n",
       "      <td>Female</td>\n",
       "      <td>44</td>\n",
       "      <td>Smoker</td>\n",
       "      <td>15.0</td>\n",
       "      <td>No</td>\n",
       "      <td>No</td>\n",
       "      <td>No</td>\n",
       "      <td>No</td>\n",
       "      <td>210.0</td>\n",
       "      <td>126.5</td>\n",
       "      <td>87.0</td>\n",
       "      <td>19.16</td>\n",
       "      <td>86.0</td>\n",
       "      <td>NaN</td>\n",
       "      <td>No Risk</td>\n",
       "    </tr>\n",
       "    <tr>\n",
       "      <th>4237</th>\n",
       "      <td>Female</td>\n",
       "      <td>52</td>\n",
       "      <td>Non-smoker</td>\n",
       "      <td>0.0</td>\n",
       "      <td>No</td>\n",
       "      <td>No</td>\n",
       "      <td>No</td>\n",
       "      <td>No</td>\n",
       "      <td>269.0</td>\n",
       "      <td>133.5</td>\n",
       "      <td>83.0</td>\n",
       "      <td>21.47</td>\n",
       "      <td>80.0</td>\n",
       "      <td>107.0</td>\n",
       "      <td>No Risk</td>\n",
       "    </tr>\n",
       "    <tr>\n",
       "      <th>4238</th>\n",
       "      <td>Male</td>\n",
       "      <td>40</td>\n",
       "      <td>Non-smoker</td>\n",
       "      <td>0.0</td>\n",
       "      <td>No</td>\n",
       "      <td>No</td>\n",
       "      <td>Yes</td>\n",
       "      <td>No</td>\n",
       "      <td>185.0</td>\n",
       "      <td>141.0</td>\n",
       "      <td>98.0</td>\n",
       "      <td>25.60</td>\n",
       "      <td>67.0</td>\n",
       "      <td>72.0</td>\n",
       "      <td>No Risk</td>\n",
       "    </tr>\n",
       "    <tr>\n",
       "      <th>4239</th>\n",
       "      <td>Female</td>\n",
       "      <td>39</td>\n",
       "      <td>Smoker</td>\n",
       "      <td>30.0</td>\n",
       "      <td>No</td>\n",
       "      <td>No</td>\n",
       "      <td>No</td>\n",
       "      <td>No</td>\n",
       "      <td>196.0</td>\n",
       "      <td>133.0</td>\n",
       "      <td>86.0</td>\n",
       "      <td>20.91</td>\n",
       "      <td>85.0</td>\n",
       "      <td>80.0</td>\n",
       "      <td>No Risk</td>\n",
       "    </tr>\n",
       "  </tbody>\n",
       "</table>\n",
       "</div>"
      ],
      "text/plain": [
       "      Gender  Age     Smoking  Cigarettes_Per_Day BP_Med Stroke_History  \\\n",
       "4235  Female   48      Smoker                20.0    NaN             No   \n",
       "4236  Female   44      Smoker                15.0     No             No   \n",
       "4237  Female   52  Non-smoker                 0.0     No             No   \n",
       "4238    Male   40  Non-smoker                 0.0     No             No   \n",
       "4239  Female   39      Smoker                30.0     No             No   \n",
       "\n",
       "     Hypertension Diabetes  Total_Cholesterol  Systolic_BP  Diastolic_BP  \\\n",
       "4235           No       No              248.0        131.0          72.0   \n",
       "4236           No       No              210.0        126.5          87.0   \n",
       "4237           No       No              269.0        133.5          83.0   \n",
       "4238          Yes       No              185.0        141.0          98.0   \n",
       "4239           No       No              196.0        133.0          86.0   \n",
       "\n",
       "        BMI  Heart_Rate  Glucose_Level Ten_Year_CHD  \n",
       "4235  22.00        84.0           86.0      No Risk  \n",
       "4236  19.16        86.0            NaN      No Risk  \n",
       "4237  21.47        80.0          107.0      No Risk  \n",
       "4238  25.60        67.0           72.0      No Risk  \n",
       "4239  20.91        85.0           80.0      No Risk  "
      ]
     },
     "execution_count": 18,
     "metadata": {},
     "output_type": "execute_result"
    }
   ],
   "source": [
    "df.tail()"
   ]
  },
  {
   "cell_type": "code",
   "execution_count": 19,
   "id": "6c21e7b4-2cac-4879-b2ef-b775d2bca9ad",
   "metadata": {},
   "outputs": [
    {
     "name": "stdout",
     "output_type": "stream",
     "text": [
      "<class 'pandas.core.frame.DataFrame'>\n",
      "RangeIndex: 4240 entries, 0 to 4239\n",
      "Data columns (total 15 columns):\n",
      " #   Column              Non-Null Count  Dtype  \n",
      "---  ------              --------------  -----  \n",
      " 0   Gender              4240 non-null   object \n",
      " 1   Age                 4240 non-null   int64  \n",
      " 2   Smoking             4240 non-null   object \n",
      " 3   Cigarettes_Per_Day  4211 non-null   float64\n",
      " 4   BP_Med              4187 non-null   object \n",
      " 5   Stroke_History      4240 non-null   object \n",
      " 6   Hypertension        4240 non-null   object \n",
      " 7   Diabetes            4240 non-null   object \n",
      " 8   Total_Cholesterol   4190 non-null   float64\n",
      " 9   Systolic_BP         4240 non-null   float64\n",
      " 10  Diastolic_BP        4240 non-null   float64\n",
      " 11  BMI                 4221 non-null   float64\n",
      " 12  Heart_Rate          4239 non-null   float64\n",
      " 13  Glucose_Level       3852 non-null   float64\n",
      " 14  Ten_Year_CHD        4240 non-null   object \n",
      "dtypes: float64(7), int64(1), object(7)\n",
      "memory usage: 497.0+ KB\n"
     ]
    }
   ],
   "source": [
    "df.info()"
   ]
  },
  {
   "cell_type": "markdown",
   "id": "2b149ee0-c611-4b91-b233-9a10608f5978",
   "metadata": {},
   "source": [
    "Column type:\n",
    "Numerical-Age,cig per day,Total_Cholesterol,Systolic_BP,Diastolic_BP,BMI,Heart_Rate,Glucose_Level\n",
    "Categorical-Gender,smoking,BP_med,stroke_history,Hypertension,Diabetes,Ten_Year_CHD"
   ]
  },
  {
   "cell_type": "code",
   "execution_count": 20,
   "id": "3398c5b8-5af6-4bcb-bf77-6a0e2df24e5b",
   "metadata": {},
   "outputs": [
    {
     "data": {
      "text/plain": [
       "Gender\n",
       "Female    2420\n",
       "Male      1820\n",
       "Name: count, dtype: int64"
      ]
     },
     "execution_count": 20,
     "metadata": {},
     "output_type": "execute_result"
    }
   ],
   "source": [
    "df[\"Gender\"].value_counts()"
   ]
  },
  {
   "cell_type": "code",
   "execution_count": 21,
   "id": "a08252de-5986-481a-b4cd-56074a76fd30",
   "metadata": {},
   "outputs": [
    {
     "data": {
      "text/plain": [
       "Ten_Year_CHD\n",
       "No Risk    3596\n",
       "Risk        644\n",
       "Name: count, dtype: int64"
      ]
     },
     "execution_count": 21,
     "metadata": {},
     "output_type": "execute_result"
    }
   ],
   "source": [
    "df[\"Ten_Year_CHD\"].value_counts()"
   ]
  },
  {
   "cell_type": "code",
   "execution_count": 22,
   "id": "afe295b8-1e33-4f89-b9a6-c8f9ee8822df",
   "metadata": {},
   "outputs": [
    {
     "data": {
      "text/plain": [
       "Gender\n",
       "Female    49.795868\n",
       "Male      49.293407\n",
       "Name: Age, dtype: float64"
      ]
     },
     "execution_count": 22,
     "metadata": {},
     "output_type": "execute_result"
    }
   ],
   "source": [
    "#Average age by gender\n",
    "df.groupby(\"Gender\")[\"Age\"].mean()"
   ]
  },
  {
   "cell_type": "code",
   "execution_count": 23,
   "id": "76ef09ca-4a5d-4c8a-8444-bd2d37af314f",
   "metadata": {},
   "outputs": [
    {
     "data": {
      "text/html": [
       "<div>\n",
       "<style scoped>\n",
       "    .dataframe tbody tr th:only-of-type {\n",
       "        vertical-align: middle;\n",
       "    }\n",
       "\n",
       "    .dataframe tbody tr th {\n",
       "        vertical-align: top;\n",
       "    }\n",
       "\n",
       "    .dataframe thead th {\n",
       "        text-align: right;\n",
       "    }\n",
       "</style>\n",
       "<table border=\"1\" class=\"dataframe\">\n",
       "  <thead>\n",
       "    <tr style=\"text-align: right;\">\n",
       "      <th></th>\n",
       "      <th>Total_Cholesterol</th>\n",
       "      <th>Systolic_BP</th>\n",
       "      <th>Diastolic_BP</th>\n",
       "      <th>BMI</th>\n",
       "      <th>Heart_Rate</th>\n",
       "      <th>Glucose_Level</th>\n",
       "    </tr>\n",
       "    <tr>\n",
       "      <th>Gender</th>\n",
       "      <th></th>\n",
       "      <th></th>\n",
       "      <th></th>\n",
       "      <th></th>\n",
       "      <th></th>\n",
       "      <th></th>\n",
       "    </tr>\n",
       "  </thead>\n",
       "  <tbody>\n",
       "    <tr>\n",
       "      <th>Female</th>\n",
       "      <td>239.441313</td>\n",
       "      <td>133.040083</td>\n",
       "      <td>82.296694</td>\n",
       "      <td>25.510723</td>\n",
       "      <td>77.097934</td>\n",
       "      <td>81.83605</td>\n",
       "    </tr>\n",
       "    <tr>\n",
       "      <th>Male</th>\n",
       "      <td>233.104799</td>\n",
       "      <td>131.443132</td>\n",
       "      <td>83.696978</td>\n",
       "      <td>26.185333</td>\n",
       "      <td>74.257284</td>\n",
       "      <td>82.12434</td>\n",
       "    </tr>\n",
       "  </tbody>\n",
       "</table>\n",
       "</div>"
      ],
      "text/plain": [
       "        Total_Cholesterol  Systolic_BP  Diastolic_BP        BMI  Heart_Rate  \\\n",
       "Gender                                                                        \n",
       "Female         239.441313   133.040083     82.296694  25.510723   77.097934   \n",
       "Male           233.104799   131.443132     83.696978  26.185333   74.257284   \n",
       "\n",
       "        Glucose_Level  \n",
       "Gender                 \n",
       "Female       81.83605  \n",
       "Male         82.12434  "
      ]
     },
     "execution_count": 23,
     "metadata": {},
     "output_type": "execute_result"
    }
   ],
   "source": [
    "df.groupby(\"Gender\")[[\"Total_Cholesterol\",\"Systolic_BP\",\"Diastolic_BP\",\"BMI\",\"Heart_Rate\",\"Glucose_Level\"]].mean()"
   ]
  },
  {
   "cell_type": "code",
   "execution_count": 24,
   "id": "8ff7dada-b1f0-4ec3-8183-1dea917cb0e7",
   "metadata": {},
   "outputs": [
    {
     "data": {
      "text/html": [
       "<div>\n",
       "<style scoped>\n",
       "    .dataframe tbody tr th:only-of-type {\n",
       "        vertical-align: middle;\n",
       "    }\n",
       "\n",
       "    .dataframe tbody tr th {\n",
       "        vertical-align: top;\n",
       "    }\n",
       "\n",
       "    .dataframe thead th {\n",
       "        text-align: right;\n",
       "    }\n",
       "</style>\n",
       "<table border=\"1\" class=\"dataframe\">\n",
       "  <thead>\n",
       "    <tr style=\"text-align: right;\">\n",
       "      <th></th>\n",
       "      <th></th>\n",
       "      <th>Total_Cholesterol</th>\n",
       "      <th>Systolic_BP</th>\n",
       "      <th>Diastolic_BP</th>\n",
       "      <th>BMI</th>\n",
       "      <th>Heart_Rate</th>\n",
       "      <th>Glucose_Level</th>\n",
       "    </tr>\n",
       "    <tr>\n",
       "      <th>BP_Med</th>\n",
       "      <th>Stroke_History</th>\n",
       "      <th></th>\n",
       "      <th></th>\n",
       "      <th></th>\n",
       "      <th></th>\n",
       "      <th></th>\n",
       "      <th></th>\n",
       "    </tr>\n",
       "  </thead>\n",
       "  <tbody>\n",
       "    <tr>\n",
       "      <th rowspan=\"2\" valign=\"top\">No</th>\n",
       "      <th>No</th>\n",
       "      <td>236.043500</td>\n",
       "      <td>131.262234</td>\n",
       "      <td>82.456747</td>\n",
       "      <td>25.733839</td>\n",
       "      <td>75.848949</td>\n",
       "      <td>81.711444</td>\n",
       "    </tr>\n",
       "    <tr>\n",
       "      <th>Yes</th>\n",
       "      <td>232.823529</td>\n",
       "      <td>144.029412</td>\n",
       "      <td>90.000000</td>\n",
       "      <td>25.214000</td>\n",
       "      <td>74.823529</td>\n",
       "      <td>88.235294</td>\n",
       "    </tr>\n",
       "    <tr>\n",
       "      <th rowspan=\"2\" valign=\"top\">Yes</th>\n",
       "      <th>No</th>\n",
       "      <td>258.456140</td>\n",
       "      <td>164.495726</td>\n",
       "      <td>96.256410</td>\n",
       "      <td>27.902672</td>\n",
       "      <td>77.273504</td>\n",
       "      <td>89.675926</td>\n",
       "    </tr>\n",
       "    <tr>\n",
       "      <th>Yes</th>\n",
       "      <td>238.714286</td>\n",
       "      <td>160.571429</td>\n",
       "      <td>93.285714</td>\n",
       "      <td>32.377143</td>\n",
       "      <td>71.142857</td>\n",
       "      <td>76.000000</td>\n",
       "    </tr>\n",
       "  </tbody>\n",
       "</table>\n",
       "</div>"
      ],
      "text/plain": [
       "                       Total_Cholesterol  Systolic_BP  Diastolic_BP  \\\n",
       "BP_Med Stroke_History                                                 \n",
       "No     No                     236.043500   131.262234     82.456747   \n",
       "       Yes                    232.823529   144.029412     90.000000   \n",
       "Yes    No                     258.456140   164.495726     96.256410   \n",
       "       Yes                    238.714286   160.571429     93.285714   \n",
       "\n",
       "                             BMI  Heart_Rate  Glucose_Level  \n",
       "BP_Med Stroke_History                                        \n",
       "No     No              25.733839   75.848949      81.711444  \n",
       "       Yes             25.214000   74.823529      88.235294  \n",
       "Yes    No              27.902672   77.273504      89.675926  \n",
       "       Yes             32.377143   71.142857      76.000000  "
      ]
     },
     "execution_count": 24,
     "metadata": {},
     "output_type": "execute_result"
    }
   ],
   "source": [
    "df.groupby([\"BP_Med\",\"Stroke_History\"])[[\"Total_Cholesterol\",\"Systolic_BP\",\"Diastolic_BP\",\"BMI\",\"Heart_Rate\",\"Glucose_Level\"]].mean()"
   ]
  },
  {
   "cell_type": "code",
   "execution_count": 25,
   "id": "2d97eaaa-31e6-4d04-8c92-4916e50ae774",
   "metadata": {},
   "outputs": [
    {
     "data": {
      "text/html": [
       "<div>\n",
       "<style scoped>\n",
       "    .dataframe tbody tr th:only-of-type {\n",
       "        vertical-align: middle;\n",
       "    }\n",
       "\n",
       "    .dataframe tbody tr th {\n",
       "        vertical-align: top;\n",
       "    }\n",
       "\n",
       "    .dataframe thead th {\n",
       "        text-align: right;\n",
       "    }\n",
       "</style>\n",
       "<table border=\"1\" class=\"dataframe\">\n",
       "  <thead>\n",
       "    <tr style=\"text-align: right;\">\n",
       "      <th></th>\n",
       "      <th></th>\n",
       "      <th>Total_Cholesterol</th>\n",
       "      <th>Systolic_BP</th>\n",
       "      <th>Diastolic_BP</th>\n",
       "      <th>BMI</th>\n",
       "      <th>Heart_Rate</th>\n",
       "      <th>Glucose_Level</th>\n",
       "    </tr>\n",
       "    <tr>\n",
       "      <th>Hypertension</th>\n",
       "      <th>Diabetes</th>\n",
       "      <th></th>\n",
       "      <th></th>\n",
       "      <th></th>\n",
       "      <th></th>\n",
       "      <th></th>\n",
       "      <th></th>\n",
       "    </tr>\n",
       "  </thead>\n",
       "  <tbody>\n",
       "    <tr>\n",
       "      <th rowspan=\"2\" valign=\"top\">No</th>\n",
       "      <th>No</th>\n",
       "      <td>231.699789</td>\n",
       "      <td>121.981546</td>\n",
       "      <td>77.963614</td>\n",
       "      <td>24.950643</td>\n",
       "      <td>74.622563</td>\n",
       "      <td>78.840323</td>\n",
       "    </tr>\n",
       "    <tr>\n",
       "      <th>Yes</th>\n",
       "      <td>237.540000</td>\n",
       "      <td>126.049020</td>\n",
       "      <td>78.607843</td>\n",
       "      <td>26.406667</td>\n",
       "      <td>78.745098</td>\n",
       "      <td>173.854167</td>\n",
       "    </tr>\n",
       "    <tr>\n",
       "      <th rowspan=\"2\" valign=\"top\">Yes</th>\n",
       "      <th>No</th>\n",
       "      <td>247.145498</td>\n",
       "      <td>154.710882</td>\n",
       "      <td>93.834392</td>\n",
       "      <td>27.551834</td>\n",
       "      <td>78.433227</td>\n",
       "      <td>80.952091</td>\n",
       "    </tr>\n",
       "    <tr>\n",
       "      <th>Yes</th>\n",
       "      <td>256.568966</td>\n",
       "      <td>166.258621</td>\n",
       "      <td>93.594828</td>\n",
       "      <td>29.457143</td>\n",
       "      <td>80.172414</td>\n",
       "      <td>167.368421</td>\n",
       "    </tr>\n",
       "  </tbody>\n",
       "</table>\n",
       "</div>"
      ],
      "text/plain": [
       "                       Total_Cholesterol  Systolic_BP  Diastolic_BP  \\\n",
       "Hypertension Diabetes                                                 \n",
       "No           No               231.699789   121.981546     77.963614   \n",
       "             Yes              237.540000   126.049020     78.607843   \n",
       "Yes          No               247.145498   154.710882     93.834392   \n",
       "             Yes              256.568966   166.258621     93.594828   \n",
       "\n",
       "                             BMI  Heart_Rate  Glucose_Level  \n",
       "Hypertension Diabetes                                        \n",
       "No           No        24.950643   74.622563      78.840323  \n",
       "             Yes       26.406667   78.745098     173.854167  \n",
       "Yes          No        27.551834   78.433227      80.952091  \n",
       "             Yes       29.457143   80.172414     167.368421  "
      ]
     },
     "execution_count": 25,
     "metadata": {},
     "output_type": "execute_result"
    }
   ],
   "source": [
    "df.groupby([\"Hypertension\",\"Diabetes\"])[[\"Total_Cholesterol\",\"Systolic_BP\",\"Diastolic_BP\",\"BMI\",\"Heart_Rate\",\"Glucose_Level\"]].mean()"
   ]
  },
  {
   "cell_type": "code",
   "execution_count": 26,
   "id": "d3a8f9ec-e591-46c1-8b17-1e70c746795a",
   "metadata": {},
   "outputs": [
    {
     "data": {
      "text/html": [
       "<div>\n",
       "<style scoped>\n",
       "    .dataframe tbody tr th:only-of-type {\n",
       "        vertical-align: middle;\n",
       "    }\n",
       "\n",
       "    .dataframe tbody tr th {\n",
       "        vertical-align: top;\n",
       "    }\n",
       "\n",
       "    .dataframe thead th {\n",
       "        text-align: right;\n",
       "    }\n",
       "</style>\n",
       "<table border=\"1\" class=\"dataframe\">\n",
       "  <thead>\n",
       "    <tr style=\"text-align: right;\">\n",
       "      <th></th>\n",
       "      <th>Total_Cholesterol</th>\n",
       "      <th>Systolic_BP</th>\n",
       "      <th>Diastolic_BP</th>\n",
       "      <th>BMI</th>\n",
       "      <th>Heart_Rate</th>\n",
       "      <th>Glucose_Level</th>\n",
       "    </tr>\n",
       "    <tr>\n",
       "      <th>Ten_Year_CHD</th>\n",
       "      <th></th>\n",
       "      <th></th>\n",
       "      <th></th>\n",
       "      <th></th>\n",
       "      <th></th>\n",
       "      <th></th>\n",
       "    </tr>\n",
       "  </thead>\n",
       "  <tbody>\n",
       "    <tr>\n",
       "      <th>No Risk</th>\n",
       "      <td>235.147398</td>\n",
       "      <td>130.337319</td>\n",
       "      <td>82.166435</td>\n",
       "      <td>25.671659</td>\n",
       "      <td>75.762514</td>\n",
       "      <td>80.679251</td>\n",
       "    </tr>\n",
       "    <tr>\n",
       "      <th>Risk</th>\n",
       "      <td>245.388976</td>\n",
       "      <td>143.618789</td>\n",
       "      <td>86.981366</td>\n",
       "      <td>26.531451</td>\n",
       "      <td>76.530327</td>\n",
       "      <td>89.008418</td>\n",
       "    </tr>\n",
       "  </tbody>\n",
       "</table>\n",
       "</div>"
      ],
      "text/plain": [
       "              Total_Cholesterol  Systolic_BP  Diastolic_BP        BMI  \\\n",
       "Ten_Year_CHD                                                            \n",
       "No Risk              235.147398   130.337319     82.166435  25.671659   \n",
       "Risk                 245.388976   143.618789     86.981366  26.531451   \n",
       "\n",
       "              Heart_Rate  Glucose_Level  \n",
       "Ten_Year_CHD                             \n",
       "No Risk        75.762514      80.679251  \n",
       "Risk           76.530327      89.008418  "
      ]
     },
     "execution_count": 26,
     "metadata": {},
     "output_type": "execute_result"
    }
   ],
   "source": [
    "df.groupby(\"Ten_Year_CHD\")[[\"Total_Cholesterol\",\"Systolic_BP\",\"Diastolic_BP\",\"BMI\",\"Heart_Rate\",\"Glucose_Level\"]].mean()"
   ]
  },
  {
   "cell_type": "markdown",
   "id": "858fa4b7-a912-49c8-9a82-3263e03a0b59",
   "metadata": {},
   "source": [
    "                                                        Handling null values"
   ]
  },
  {
   "cell_type": "code",
   "execution_count": 27,
   "id": "38411074-69a9-481e-b702-515edfdc2053",
   "metadata": {},
   "outputs": [
    {
     "data": {
      "text/plain": [
       "Gender                  0\n",
       "Age                     0\n",
       "Smoking                 0\n",
       "Cigarettes_Per_Day     29\n",
       "BP_Med                 53\n",
       "Stroke_History          0\n",
       "Hypertension            0\n",
       "Diabetes                0\n",
       "Total_Cholesterol      50\n",
       "Systolic_BP             0\n",
       "Diastolic_BP            0\n",
       "BMI                    19\n",
       "Heart_Rate              1\n",
       "Glucose_Level         388\n",
       "Ten_Year_CHD            0\n",
       "dtype: int64"
      ]
     },
     "execution_count": 27,
     "metadata": {},
     "output_type": "execute_result"
    }
   ],
   "source": [
    "df.isnull().sum()"
   ]
  },
  {
   "cell_type": "markdown",
   "id": "1d54e3be-f868-41c4-bd94-402e6cd12a03",
   "metadata": {},
   "source": [
    "Cigarretes Per Day:"
   ]
  },
  {
   "cell_type": "code",
   "execution_count": 28,
   "id": "184b86a1-b513-40a4-a88c-feb7457cb94b",
   "metadata": {},
   "outputs": [],
   "source": [
    "df1=df[[\"Cigarettes_Per_Day\",\"Age\",\"Total_Cholesterol\",\"Systolic_BP\",\"Diastolic_BP\",\"BMI\",\"Heart_Rate\",\"Glucose_Level\"]] "
   ]
  },
  {
   "cell_type": "code",
   "execution_count": 29,
   "id": "76c94ade-5806-498a-aee2-f64507c0f1f7",
   "metadata": {},
   "outputs": [
    {
     "data": {
      "text/html": [
       "<div>\n",
       "<style scoped>\n",
       "    .dataframe tbody tr th:only-of-type {\n",
       "        vertical-align: middle;\n",
       "    }\n",
       "\n",
       "    .dataframe tbody tr th {\n",
       "        vertical-align: top;\n",
       "    }\n",
       "\n",
       "    .dataframe thead th {\n",
       "        text-align: right;\n",
       "    }\n",
       "</style>\n",
       "<table border=\"1\" class=\"dataframe\">\n",
       "  <thead>\n",
       "    <tr style=\"text-align: right;\">\n",
       "      <th></th>\n",
       "      <th>Cigarettes_Per_Day</th>\n",
       "      <th>Age</th>\n",
       "      <th>Total_Cholesterol</th>\n",
       "      <th>Systolic_BP</th>\n",
       "      <th>Diastolic_BP</th>\n",
       "      <th>BMI</th>\n",
       "      <th>Heart_Rate</th>\n",
       "      <th>Glucose_Level</th>\n",
       "    </tr>\n",
       "  </thead>\n",
       "  <tbody>\n",
       "    <tr>\n",
       "      <th>Cigarettes_Per_Day</th>\n",
       "      <td>1.000000</td>\n",
       "      <td>-0.192959</td>\n",
       "      <td>-0.026479</td>\n",
       "      <td>-0.088797</td>\n",
       "      <td>-0.056715</td>\n",
       "      <td>-0.093293</td>\n",
       "      <td>0.075564</td>\n",
       "      <td>-0.058886</td>\n",
       "    </tr>\n",
       "    <tr>\n",
       "      <th>Age</th>\n",
       "      <td>-0.192959</td>\n",
       "      <td>1.000000</td>\n",
       "      <td>0.262554</td>\n",
       "      <td>0.394053</td>\n",
       "      <td>0.205586</td>\n",
       "      <td>0.136096</td>\n",
       "      <td>-0.012843</td>\n",
       "      <td>0.122356</td>\n",
       "    </tr>\n",
       "    <tr>\n",
       "      <th>Total_Cholesterol</th>\n",
       "      <td>-0.026479</td>\n",
       "      <td>0.262554</td>\n",
       "      <td>1.000000</td>\n",
       "      <td>0.208734</td>\n",
       "      <td>0.164698</td>\n",
       "      <td>0.115992</td>\n",
       "      <td>0.091127</td>\n",
       "      <td>0.046538</td>\n",
       "    </tr>\n",
       "    <tr>\n",
       "      <th>Systolic_BP</th>\n",
       "      <td>-0.088797</td>\n",
       "      <td>0.394053</td>\n",
       "      <td>0.208734</td>\n",
       "      <td>1.000000</td>\n",
       "      <td>0.783952</td>\n",
       "      <td>0.326906</td>\n",
       "      <td>0.182155</td>\n",
       "      <td>0.140573</td>\n",
       "    </tr>\n",
       "    <tr>\n",
       "      <th>Diastolic_BP</th>\n",
       "      <td>-0.056715</td>\n",
       "      <td>0.205586</td>\n",
       "      <td>0.164698</td>\n",
       "      <td>0.783952</td>\n",
       "      <td>1.000000</td>\n",
       "      <td>0.377360</td>\n",
       "      <td>0.181021</td>\n",
       "      <td>0.061075</td>\n",
       "    </tr>\n",
       "    <tr>\n",
       "      <th>BMI</th>\n",
       "      <td>-0.093293</td>\n",
       "      <td>0.136096</td>\n",
       "      <td>0.115992</td>\n",
       "      <td>0.326906</td>\n",
       "      <td>0.377360</td>\n",
       "      <td>1.000000</td>\n",
       "      <td>0.067451</td>\n",
       "      <td>0.087389</td>\n",
       "    </tr>\n",
       "    <tr>\n",
       "      <th>Heart_Rate</th>\n",
       "      <td>0.075564</td>\n",
       "      <td>-0.012843</td>\n",
       "      <td>0.091127</td>\n",
       "      <td>0.182155</td>\n",
       "      <td>0.181021</td>\n",
       "      <td>0.067451</td>\n",
       "      <td>1.000000</td>\n",
       "      <td>0.094546</td>\n",
       "    </tr>\n",
       "    <tr>\n",
       "      <th>Glucose_Level</th>\n",
       "      <td>-0.058886</td>\n",
       "      <td>0.122356</td>\n",
       "      <td>0.046538</td>\n",
       "      <td>0.140573</td>\n",
       "      <td>0.061075</td>\n",
       "      <td>0.087389</td>\n",
       "      <td>0.094546</td>\n",
       "      <td>1.000000</td>\n",
       "    </tr>\n",
       "  </tbody>\n",
       "</table>\n",
       "</div>"
      ],
      "text/plain": [
       "                    Cigarettes_Per_Day       Age  Total_Cholesterol  \\\n",
       "Cigarettes_Per_Day            1.000000 -0.192959          -0.026479   \n",
       "Age                          -0.192959  1.000000           0.262554   \n",
       "Total_Cholesterol            -0.026479  0.262554           1.000000   \n",
       "Systolic_BP                  -0.088797  0.394053           0.208734   \n",
       "Diastolic_BP                 -0.056715  0.205586           0.164698   \n",
       "BMI                          -0.093293  0.136096           0.115992   \n",
       "Heart_Rate                    0.075564 -0.012843           0.091127   \n",
       "Glucose_Level                -0.058886  0.122356           0.046538   \n",
       "\n",
       "                    Systolic_BP  Diastolic_BP       BMI  Heart_Rate  \\\n",
       "Cigarettes_Per_Day    -0.088797     -0.056715 -0.093293    0.075564   \n",
       "Age                    0.394053      0.205586  0.136096   -0.012843   \n",
       "Total_Cholesterol      0.208734      0.164698  0.115992    0.091127   \n",
       "Systolic_BP            1.000000      0.783952  0.326906    0.182155   \n",
       "Diastolic_BP           0.783952      1.000000  0.377360    0.181021   \n",
       "BMI                    0.326906      0.377360  1.000000    0.067451   \n",
       "Heart_Rate             0.182155      0.181021  0.067451    1.000000   \n",
       "Glucose_Level          0.140573      0.061075  0.087389    0.094546   \n",
       "\n",
       "                    Glucose_Level  \n",
       "Cigarettes_Per_Day      -0.058886  \n",
       "Age                      0.122356  \n",
       "Total_Cholesterol        0.046538  \n",
       "Systolic_BP              0.140573  \n",
       "Diastolic_BP             0.061075  \n",
       "BMI                      0.087389  \n",
       "Heart_Rate               0.094546  \n",
       "Glucose_Level            1.000000  "
      ]
     },
     "execution_count": 29,
     "metadata": {},
     "output_type": "execute_result"
    }
   ],
   "source": [
    "df1.corr()"
   ]
  },
  {
   "cell_type": "code",
   "execution_count": 30,
   "id": "dd159bec-4291-4d5e-8dcd-0453b5d1a374",
   "metadata": {},
   "outputs": [
    {
     "data": {
      "text/plain": [
       "np.float64(9.005936832106388)"
      ]
     },
     "execution_count": 30,
     "metadata": {},
     "output_type": "execute_result"
    }
   ],
   "source": [
    "df[\"Cigarettes_Per_Day\"].mean()"
   ]
  },
  {
   "cell_type": "code",
   "execution_count": 31,
   "id": "16295d99-7860-49c3-ae71-eb131b29947e",
   "metadata": {},
   "outputs": [],
   "source": [
    "df[\"Cigarettes_Per_Day\"]=df.apply(lambda x: 0 if pd.isnull(x[\"Cigarettes_Per_Day\"]) and x[\"Smoking\"]==\"No\" else (9 if pd.isnull(x[\"Cigarettes_Per_Day\"]) else x[\"Cigarettes_Per_Day\"]),axis=1)"
   ]
  },
  {
   "cell_type": "code",
   "execution_count": 32,
   "id": "4932c131-093e-40b9-b9bd-8d01368db630",
   "metadata": {},
   "outputs": [
    {
     "data": {
      "text/plain": [
       "Gender                  0\n",
       "Age                     0\n",
       "Smoking                 0\n",
       "Cigarettes_Per_Day      0\n",
       "BP_Med                 53\n",
       "Stroke_History          0\n",
       "Hypertension            0\n",
       "Diabetes                0\n",
       "Total_Cholesterol      50\n",
       "Systolic_BP             0\n",
       "Diastolic_BP            0\n",
       "BMI                    19\n",
       "Heart_Rate              1\n",
       "Glucose_Level         388\n",
       "Ten_Year_CHD            0\n",
       "dtype: int64"
      ]
     },
     "execution_count": 32,
     "metadata": {},
     "output_type": "execute_result"
    }
   ],
   "source": [
    "df.isnull().sum()"
   ]
  },
  {
   "cell_type": "markdown",
   "id": "c27ed801-8696-4444-8ed3-17a667edc3c6",
   "metadata": {},
   "source": [
    "BP_Med:"
   ]
  },
  {
   "cell_type": "code",
   "execution_count": 33,
   "id": "0ceee062-ecc8-459c-98cd-cdc4520625b3",
   "metadata": {},
   "outputs": [
    {
     "data": {
      "text/html": [
       "<div>\n",
       "<style scoped>\n",
       "    .dataframe tbody tr th:only-of-type {\n",
       "        vertical-align: middle;\n",
       "    }\n",
       "\n",
       "    .dataframe tbody tr th {\n",
       "        vertical-align: top;\n",
       "    }\n",
       "\n",
       "    .dataframe thead th {\n",
       "        text-align: right;\n",
       "    }\n",
       "</style>\n",
       "<table border=\"1\" class=\"dataframe\">\n",
       "  <thead>\n",
       "    <tr style=\"text-align: right;\">\n",
       "      <th>BP_Med</th>\n",
       "      <th>No</th>\n",
       "      <th>Yes</th>\n",
       "    </tr>\n",
       "    <tr>\n",
       "      <th>Hypertension</th>\n",
       "      <th></th>\n",
       "      <th></th>\n",
       "    </tr>\n",
       "  </thead>\n",
       "  <tbody>\n",
       "    <tr>\n",
       "      <th>No</th>\n",
       "      <td>2892</td>\n",
       "      <td>0</td>\n",
       "    </tr>\n",
       "    <tr>\n",
       "      <th>Yes</th>\n",
       "      <td>1171</td>\n",
       "      <td>124</td>\n",
       "    </tr>\n",
       "  </tbody>\n",
       "</table>\n",
       "</div>"
      ],
      "text/plain": [
       "BP_Med          No  Yes\n",
       "Hypertension           \n",
       "No            2892    0\n",
       "Yes           1171  124"
      ]
     },
     "execution_count": 33,
     "metadata": {},
     "output_type": "execute_result"
    }
   ],
   "source": [
    "pd.crosstab(df[\"Hypertension\"],df[\"BP_Med\"])"
   ]
  },
  {
   "cell_type": "code",
   "execution_count": 34,
   "id": "56606a83-f615-4899-958e-eed49b06bbd3",
   "metadata": {},
   "outputs": [
    {
     "data": {
      "text/plain": [
       "BP_Med\n",
       "No     4063\n",
       "Yes     124\n",
       "Name: count, dtype: int64"
      ]
     },
     "execution_count": 34,
     "metadata": {},
     "output_type": "execute_result"
    }
   ],
   "source": [
    "df[\"BP_Med\"].value_counts()"
   ]
  },
  {
   "cell_type": "code",
   "execution_count": 35,
   "id": "80eadd08-bbf8-498c-8e11-3832d9e6772e",
   "metadata": {},
   "outputs": [],
   "source": [
    "df[\"BP_Med\"] = df.apply(lambda x: \"No\" if pd.isnull(x[\"BP_Med\"]) and x[\"Hypertension\"] == \"No\" else (df[\"BP_Med\"].mode()[0] if pd.isnull(x[\"BP_Med\"]) else x[\"BP_Med\"]),axis=1)"
   ]
  },
  {
   "cell_type": "code",
   "execution_count": 36,
   "id": "2c2c4f83-e7b3-414b-9fb2-07d662495fda",
   "metadata": {},
   "outputs": [
    {
     "data": {
      "text/plain": [
       "Gender                  0\n",
       "Age                     0\n",
       "Smoking                 0\n",
       "Cigarettes_Per_Day      0\n",
       "BP_Med                  0\n",
       "Stroke_History          0\n",
       "Hypertension            0\n",
       "Diabetes                0\n",
       "Total_Cholesterol      50\n",
       "Systolic_BP             0\n",
       "Diastolic_BP            0\n",
       "BMI                    19\n",
       "Heart_Rate              1\n",
       "Glucose_Level         388\n",
       "Ten_Year_CHD            0\n",
       "dtype: int64"
      ]
     },
     "execution_count": 36,
     "metadata": {},
     "output_type": "execute_result"
    }
   ],
   "source": [
    "df.isnull().sum()"
   ]
  },
  {
   "cell_type": "markdown",
   "id": "347dd67c-9a82-46b7-a702-fb537b133037",
   "metadata": {},
   "source": [
    "Total Cholesterol:"
   ]
  },
  {
   "cell_type": "code",
   "execution_count": 37,
   "id": "dcea72f2-263e-4b2f-9620-31bebe475b22",
   "metadata": {},
   "outputs": [
    {
     "data": {
      "text/plain": [
       "Diabetes\n",
       "No     236.406908\n",
       "Yes    247.759259\n",
       "Name: Total_Cholesterol, dtype: float64"
      ]
     },
     "execution_count": 37,
     "metadata": {},
     "output_type": "execute_result"
    }
   ],
   "source": [
    "df.groupby([\"Diabetes\"])[\"Total_Cholesterol\"].mean()"
   ]
  },
  {
   "cell_type": "code",
   "execution_count": 38,
   "id": "a9cb71f2-7bbc-4d56-8558-c1f13392a3ef",
   "metadata": {},
   "outputs": [
    {
     "data": {
      "text/plain": [
       "Ten_Year_CHD\n",
       "No Risk    235.147398\n",
       "Risk       245.388976\n",
       "Name: Total_Cholesterol, dtype: float64"
      ]
     },
     "execution_count": 38,
     "metadata": {},
     "output_type": "execute_result"
    }
   ],
   "source": [
    "df.groupby([\"Ten_Year_CHD\"])[\"Total_Cholesterol\"].mean()"
   ]
  },
  {
   "cell_type": "code",
   "execution_count": 39,
   "id": "854c533b-d269-403d-a1e3-2f9cc9b6eff5",
   "metadata": {},
   "outputs": [],
   "source": [
    "df[\"Total_Cholesterol\"]=df[\"Total_Cholesterol\"].fillna(df[\"Total_Cholesterol\"].mean())"
   ]
  },
  {
   "cell_type": "code",
   "execution_count": 40,
   "id": "4f545c12-ed6d-4b7a-b7c8-a03a9429a93c",
   "metadata": {},
   "outputs": [
    {
     "data": {
      "text/plain": [
       "Gender                  0\n",
       "Age                     0\n",
       "Smoking                 0\n",
       "Cigarettes_Per_Day      0\n",
       "BP_Med                  0\n",
       "Stroke_History          0\n",
       "Hypertension            0\n",
       "Diabetes                0\n",
       "Total_Cholesterol       0\n",
       "Systolic_BP             0\n",
       "Diastolic_BP            0\n",
       "BMI                    19\n",
       "Heart_Rate              1\n",
       "Glucose_Level         388\n",
       "Ten_Year_CHD            0\n",
       "dtype: int64"
      ]
     },
     "execution_count": 40,
     "metadata": {},
     "output_type": "execute_result"
    }
   ],
   "source": [
    "df.isnull().sum()"
   ]
  },
  {
   "cell_type": "markdown",
   "id": "0334c8d3-8adb-4789-a896-d43f6408f781",
   "metadata": {},
   "source": [
    "BMI:"
   ]
  },
  {
   "cell_type": "code",
   "execution_count": 41,
   "id": "55adc439-c91c-4a21-8e44-7ae0d1c13ce6",
   "metadata": {},
   "outputs": [
    {
     "data": {
      "text/plain": [
       "Diabetes  Hypertension\n",
       "No        No              24.950643\n",
       "          Yes             27.551834\n",
       "Yes       No              26.406667\n",
       "          Yes             29.457143\n",
       "Name: BMI, dtype: float64"
      ]
     },
     "execution_count": 41,
     "metadata": {},
     "output_type": "execute_result"
    }
   ],
   "source": [
    "df.groupby([\"Diabetes\",\"Hypertension\"])[\"BMI\"].mean()"
   ]
  },
  {
   "cell_type": "code",
   "execution_count": 42,
   "id": "21e2ef17-d2ee-42b0-a91b-a8fd88121801",
   "metadata": {},
   "outputs": [
    {
     "data": {
      "text/plain": [
       "Ten_Year_CHD\n",
       "No Risk    25.671659\n",
       "Risk       26.531451\n",
       "Name: BMI, dtype: float64"
      ]
     },
     "execution_count": 42,
     "metadata": {},
     "output_type": "execute_result"
    }
   ],
   "source": [
    "df.groupby(\"Ten_Year_CHD\")[\"BMI\"].mean()"
   ]
  },
  {
   "cell_type": "code",
   "execution_count": 43,
   "id": "6241dfb4-ee49-4bf6-8202-481f69ea3481",
   "metadata": {},
   "outputs": [],
   "source": [
    "df[\"BMI\"]=df[\"BMI\"].fillna(df[\"BMI\"].mean())"
   ]
  },
  {
   "cell_type": "code",
   "execution_count": 44,
   "id": "0a721119-be39-4033-b623-2e55cff1bc4b",
   "metadata": {},
   "outputs": [
    {
     "data": {
      "text/plain": [
       "Gender                  0\n",
       "Age                     0\n",
       "Smoking                 0\n",
       "Cigarettes_Per_Day      0\n",
       "BP_Med                  0\n",
       "Stroke_History          0\n",
       "Hypertension            0\n",
       "Diabetes                0\n",
       "Total_Cholesterol       0\n",
       "Systolic_BP             0\n",
       "Diastolic_BP            0\n",
       "BMI                     0\n",
       "Heart_Rate              1\n",
       "Glucose_Level         388\n",
       "Ten_Year_CHD            0\n",
       "dtype: int64"
      ]
     },
     "execution_count": 44,
     "metadata": {},
     "output_type": "execute_result"
    }
   ],
   "source": [
    "df.isnull().sum()"
   ]
  },
  {
   "cell_type": "markdown",
   "id": "72f1ec03-abe7-41e3-9f41-76b83782581e",
   "metadata": {},
   "source": [
    "Heart Rate:"
   ]
  },
  {
   "cell_type": "code",
   "execution_count": 45,
   "id": "d5792463-6d75-470b-a571-c75e8428cc89",
   "metadata": {},
   "outputs": [],
   "source": [
    "df[\"Heart_Rate\"]=df[\"Heart_Rate\"].fillna(df[\"Heart_Rate\"].mean())"
   ]
  },
  {
   "cell_type": "code",
   "execution_count": 46,
   "id": "352f202d-48e8-40c2-964e-f008aa61dc53",
   "metadata": {},
   "outputs": [
    {
     "data": {
      "text/plain": [
       "Gender                  0\n",
       "Age                     0\n",
       "Smoking                 0\n",
       "Cigarettes_Per_Day      0\n",
       "BP_Med                  0\n",
       "Stroke_History          0\n",
       "Hypertension            0\n",
       "Diabetes                0\n",
       "Total_Cholesterol       0\n",
       "Systolic_BP             0\n",
       "Diastolic_BP            0\n",
       "BMI                     0\n",
       "Heart_Rate              0\n",
       "Glucose_Level         388\n",
       "Ten_Year_CHD            0\n",
       "dtype: int64"
      ]
     },
     "execution_count": 46,
     "metadata": {},
     "output_type": "execute_result"
    }
   ],
   "source": [
    "df.isnull().sum()"
   ]
  },
  {
   "cell_type": "markdown",
   "id": "a43a5eaa-a312-4d6f-bf21-6ff61ac89509",
   "metadata": {},
   "source": [
    "Glucose Level:"
   ]
  },
  {
   "cell_type": "code",
   "execution_count": 47,
   "id": "79411cc5-2981-4d0d-8166-101c00822356",
   "metadata": {},
   "outputs": [
    {
     "data": {
      "text/plain": [
       "Diabetes\n",
       "No      79.487323\n",
       "Yes    170.333333\n",
       "Name: Glucose_Level, dtype: float64"
      ]
     },
     "execution_count": 47,
     "metadata": {},
     "output_type": "execute_result"
    }
   ],
   "source": [
    "df.groupby(\"Diabetes\")[\"Glucose_Level\"].mean()"
   ]
  },
  {
   "cell_type": "code",
   "execution_count": 48,
   "id": "9bbe72c9-6873-4f92-b3dd-f66628c0ae1d",
   "metadata": {},
   "outputs": [],
   "source": [
    "df[\"Glucose_Level\"]=df.apply(lambda x: 79.487 if pd.isnull(x[\"Glucose_Level\"]) and x[\"Diabetes\"]==\"No\" else (170.333 if pd.isnull(x[\"Glucose_Level\"]) and x[\"Diabetes\"]==\"Yes\"else x[\"Glucose_Level\"]),axis=1)"
   ]
  },
  {
   "cell_type": "code",
   "execution_count": 49,
   "id": "8260b4ec-e22e-4e6c-84eb-6d2b253ba47d",
   "metadata": {},
   "outputs": [
    {
     "data": {
      "text/plain": [
       "Gender                0\n",
       "Age                   0\n",
       "Smoking               0\n",
       "Cigarettes_Per_Day    0\n",
       "BP_Med                0\n",
       "Stroke_History        0\n",
       "Hypertension          0\n",
       "Diabetes              0\n",
       "Total_Cholesterol     0\n",
       "Systolic_BP           0\n",
       "Diastolic_BP          0\n",
       "BMI                   0\n",
       "Heart_Rate            0\n",
       "Glucose_Level         0\n",
       "Ten_Year_CHD          0\n",
       "dtype: int64"
      ]
     },
     "execution_count": 49,
     "metadata": {},
     "output_type": "execute_result"
    }
   ],
   "source": [
    "df.isnull().sum()"
   ]
  },
  {
   "cell_type": "code",
   "execution_count": 50,
   "id": "06d15f5d-595a-4fcc-bcc6-ff0c73569f98",
   "metadata": {},
   "outputs": [
    {
     "data": {
      "text/html": [
       "<div>\n",
       "<style scoped>\n",
       "    .dataframe tbody tr th:only-of-type {\n",
       "        vertical-align: middle;\n",
       "    }\n",
       "\n",
       "    .dataframe tbody tr th {\n",
       "        vertical-align: top;\n",
       "    }\n",
       "\n",
       "    .dataframe thead th {\n",
       "        text-align: right;\n",
       "    }\n",
       "</style>\n",
       "<table border=\"1\" class=\"dataframe\">\n",
       "  <thead>\n",
       "    <tr style=\"text-align: right;\">\n",
       "      <th></th>\n",
       "      <th>Age</th>\n",
       "      <th>Cigarettes_Per_Day</th>\n",
       "      <th>Total_Cholesterol</th>\n",
       "      <th>Systolic_BP</th>\n",
       "      <th>Diastolic_BP</th>\n",
       "      <th>BMI</th>\n",
       "      <th>Heart_Rate</th>\n",
       "      <th>Glucose_Level</th>\n",
       "    </tr>\n",
       "  </thead>\n",
       "  <tbody>\n",
       "    <tr>\n",
       "      <th>count</th>\n",
       "      <td>4240.000000</td>\n",
       "      <td>4240.000000</td>\n",
       "      <td>4240.000000</td>\n",
       "      <td>4240.000000</td>\n",
       "      <td>4240.000000</td>\n",
       "      <td>4240.000000</td>\n",
       "      <td>4240.000000</td>\n",
       "      <td>4240.000000</td>\n",
       "    </tr>\n",
       "    <tr>\n",
       "      <th>mean</th>\n",
       "      <td>49.580189</td>\n",
       "      <td>9.005896</td>\n",
       "      <td>236.699523</td>\n",
       "      <td>132.354599</td>\n",
       "      <td>82.897759</td>\n",
       "      <td>25.800801</td>\n",
       "      <td>75.878981</td>\n",
       "      <td>81.822722</td>\n",
       "    </tr>\n",
       "    <tr>\n",
       "      <th>std</th>\n",
       "      <td>8.572942</td>\n",
       "      <td>11.881610</td>\n",
       "      <td>44.327521</td>\n",
       "      <td>22.033300</td>\n",
       "      <td>11.910394</td>\n",
       "      <td>4.070687</td>\n",
       "      <td>12.023929</td>\n",
       "      <td>23.004203</td>\n",
       "    </tr>\n",
       "    <tr>\n",
       "      <th>min</th>\n",
       "      <td>32.000000</td>\n",
       "      <td>0.000000</td>\n",
       "      <td>107.000000</td>\n",
       "      <td>83.500000</td>\n",
       "      <td>48.000000</td>\n",
       "      <td>15.540000</td>\n",
       "      <td>44.000000</td>\n",
       "      <td>40.000000</td>\n",
       "    </tr>\n",
       "    <tr>\n",
       "      <th>25%</th>\n",
       "      <td>42.000000</td>\n",
       "      <td>0.000000</td>\n",
       "      <td>206.000000</td>\n",
       "      <td>117.000000</td>\n",
       "      <td>75.000000</td>\n",
       "      <td>23.077500</td>\n",
       "      <td>68.000000</td>\n",
       "      <td>72.000000</td>\n",
       "    </tr>\n",
       "    <tr>\n",
       "      <th>50%</th>\n",
       "      <td>49.000000</td>\n",
       "      <td>0.000000</td>\n",
       "      <td>234.000000</td>\n",
       "      <td>128.000000</td>\n",
       "      <td>82.000000</td>\n",
       "      <td>25.410000</td>\n",
       "      <td>75.000000</td>\n",
       "      <td>79.487000</td>\n",
       "    </tr>\n",
       "    <tr>\n",
       "      <th>75%</th>\n",
       "      <td>56.000000</td>\n",
       "      <td>20.000000</td>\n",
       "      <td>262.000000</td>\n",
       "      <td>144.000000</td>\n",
       "      <td>90.000000</td>\n",
       "      <td>28.032500</td>\n",
       "      <td>83.000000</td>\n",
       "      <td>85.000000</td>\n",
       "    </tr>\n",
       "    <tr>\n",
       "      <th>max</th>\n",
       "      <td>70.000000</td>\n",
       "      <td>70.000000</td>\n",
       "      <td>696.000000</td>\n",
       "      <td>295.000000</td>\n",
       "      <td>142.500000</td>\n",
       "      <td>56.800000</td>\n",
       "      <td>143.000000</td>\n",
       "      <td>394.000000</td>\n",
       "    </tr>\n",
       "  </tbody>\n",
       "</table>\n",
       "</div>"
      ],
      "text/plain": [
       "               Age  Cigarettes_Per_Day  Total_Cholesterol  Systolic_BP  \\\n",
       "count  4240.000000         4240.000000        4240.000000  4240.000000   \n",
       "mean     49.580189            9.005896         236.699523   132.354599   \n",
       "std       8.572942           11.881610          44.327521    22.033300   \n",
       "min      32.000000            0.000000         107.000000    83.500000   \n",
       "25%      42.000000            0.000000         206.000000   117.000000   \n",
       "50%      49.000000            0.000000         234.000000   128.000000   \n",
       "75%      56.000000           20.000000         262.000000   144.000000   \n",
       "max      70.000000           70.000000         696.000000   295.000000   \n",
       "\n",
       "       Diastolic_BP          BMI   Heart_Rate  Glucose_Level  \n",
       "count   4240.000000  4240.000000  4240.000000    4240.000000  \n",
       "mean      82.897759    25.800801    75.878981      81.822722  \n",
       "std       11.910394     4.070687    12.023929      23.004203  \n",
       "min       48.000000    15.540000    44.000000      40.000000  \n",
       "25%       75.000000    23.077500    68.000000      72.000000  \n",
       "50%       82.000000    25.410000    75.000000      79.487000  \n",
       "75%       90.000000    28.032500    83.000000      85.000000  \n",
       "max      142.500000    56.800000   143.000000     394.000000  "
      ]
     },
     "execution_count": 50,
     "metadata": {},
     "output_type": "execute_result"
    }
   ],
   "source": [
    "df.describe()"
   ]
  },
  {
   "cell_type": "markdown",
   "id": "095a45fd-e4c3-4511-89b0-8b2c9874d689",
   "metadata": {},
   "source": [
    "                                                       Data Visualizations"
   ]
  },
  {
   "cell_type": "code",
   "execution_count": 51,
   "id": "4385898e-62f5-4b5d-a5a6-50f74349b9a5",
   "metadata": {},
   "outputs": [],
   "source": [
    "import matplotlib.pyplot as plt\n",
    "import seaborn as sns"
   ]
  },
  {
   "cell_type": "code",
   "execution_count": 52,
   "id": "2492fd58-4ac2-45a2-8d19-8befa13ea4ab",
   "metadata": {},
   "outputs": [],
   "source": [
    "import os\n",
    "os.makedirs(\"images\", exist_ok=True)\n"
   ]
  },
  {
   "cell_type": "code",
   "execution_count": 53,
   "id": "96672947-8e6b-4b70-b32c-a03b64704e5a",
   "metadata": {},
   "outputs": [
    {
     "data": {
      "image/png": "[encoded data removed]",
      "text/plain": [
       "<Figure size 800x500 with 1 Axes>"
      ]
     },
     "metadata": {},
     "output_type": "display_data"
    }
   ],
   "source": [
    "Gender_data = df.groupby([\"Gender\", \"Ten_Year_CHD\"]).size().reset_index(name=\"Count\")\n",
    "\n",
    "plt.figure(figsize=(8, 5))\n",
    "sns.barplot(data=Gender_data, x=\"Gender\", y=\"Count\", hue=\"Ten_Year_CHD\", palette=[\"#1f77b4\", \"#d62728\"], edgecolor=\"black\")\n",
    "plt.title(\"CHD Risk Distribution by Gender\")\n",
    "plt.xlabel(\"Gender\")\n",
    "plt.ylabel(\"Number of People\")\n",
    "plt.legend(title=\"CHD Risk\")\n",
    "plt.tight_layout()\n",
    "plt.savefig(\"images/gender_heart_attack.png\", dpi=200, bbox_inches=\"tight\")\n",
    "plt.show()\n"
   ]
  },
  {
   "cell_type": "code",
   "execution_count": 54,
   "id": "68c1ec0a-a5e5-427d-a943-a913a5b96cff",
   "metadata": {},
   "outputs": [
    {
     "data": {
      "image/png": "[encoded data removed]",
      "text/plain": [
       "<Figure size 800x500 with 1 Axes>"
      ]
     },
     "metadata": {},
     "output_type": "display_data"
    }
   ],
   "source": [
    "smoke_chd = df.groupby([\"Smoking\", \"Ten_Year_CHD\"]).size().reset_index(name=\"Count\")\n",
    "sns.set_style(\"whitegrid\")\n",
    "plt.figure(figsize=(8, 5))\n",
    "\n",
    "sns.barplot(data=smoke_chd,x=\"Smoking\",y=\"Count\",hue=\"Ten_Year_CHD\",palette=[\"#4c72b0\", \"#c44e52\"],edgecolor=\"black\")\n",
    "plt.title(\"CHD Risk by Smoking Status\", fontsize=14, fontweight=\"bold\")\n",
    "plt.xlabel(\"Smoking Status\", fontsize=12)\n",
    "plt.ylabel(\"Number of Individuals\", fontsize=12)\n",
    "plt.grid(axis=\"y\", linestyle=\"--\", alpha=0.5)\n",
    "plt.legend(title=\"CHD Risk\", loc=\"upper right\", fontsize=10, title_fontsize=11)\n",
    "plt.tight_layout()\n",
    "plt.savefig(\"images/smoking_heart_attack.png\", dpi=200, bbox_inches=\"tight\")\n",
    "plt.show()"
   ]
  },
  {
   "cell_type": "code",
   "execution_count": 55,
   "id": "38a7020f-a271-42d4-9035-a68561286e43",
   "metadata": {},
   "outputs": [
    {
     "data": {
      "image/png": "[encoded data removed]",
      "text/plain": [
       "<Figure size 1000x500 with 1 Axes>"
      ]
     },
     "metadata": {},
     "output_type": "display_data"
    }
   ],
   "source": [
    "age_chd = df[df[\"Ten_Year_CHD\"] == \"Risk\"].groupby(\"Age\").size()\n",
    "\n",
    "plt.figure(figsize=(10, 5))\n",
    "plt.plot(age_chd.index,age_chd.values,color=\"#c44e52\",marker=\"o\",linestyle=\"-\",linewidth=2)\n",
    "\n",
    "plt.title(\"CHD Risk Across Age Groups\", fontsize=14, fontweight=\"bold\")\n",
    "plt.xlabel(\"Age\", fontsize=12)\n",
    "plt.ylabel(\"Number of CHD Risk Cases\", fontsize=12)\n",
    "plt.grid(True, linestyle=\"--\", alpha=0.4)\n",
    "plt.tight_layout()\n",
    "plt.savefig(\"images/age_heart_attack.png\", dpi=200, bbox_inches=\"tight\")\n",
    "plt.show()"
   ]
  },
  {
   "cell_type": "code",
   "execution_count": 56,
   "id": "f5d4fb88-edfd-42fe-9fe5-1fbd7c2d6b06",
   "metadata": {},
   "outputs": [
    {
     "data": {
      "text/plain": [
       "<Figure size 800x600 with 0 Axes>"
      ]
     },
     "metadata": {},
     "output_type": "display_data"
    },
    {
     "data": {
      "image/png": "[encoded data removed]",
      "text/plain": [
       "<Figure size 640x480 with 1 Axes>"
      ]
     },
     "metadata": {},
     "output_type": "display_data"
    }
   ],
   "source": [
    "data = df.groupby([\"Hypertension\", \"Ten_Year_CHD\"]).size().unstack()\n",
    "data_percent = data.div(data.sum(axis=1), axis=0) * 100\n",
    "\n",
    "plt.figure(figsize=(8, 6))\n",
    "data_percent.plot(kind=\"bar\", stacked=False, color=[\"#4c72b0\", \"#c44e52\"], edgecolor=\"black\")\n",
    "\n",
    "plt.title(\"CHD Risk Distribution by Hypertension Status\", fontsize=14, fontweight=\"bold\")\n",
    "plt.xlabel(\"Hypertension Status\", fontsize=12)\n",
    "plt.ylabel(\"Percentage\", fontsize=12)\n",
    "plt.xticks(ticks=[0, 1], labels=[\"No\", \"Yes\"], rotation=0)\n",
    "plt.legend(title=\"CHD Risk\", labels=[\"No Risk\", \"Risk\"])\n",
    "plt.grid(axis=\"y\", linestyle=\"--\", alpha=0.5)\n",
    "plt.tight_layout()\n",
    "plt.savefig(\"images/hypertension_heart_attack.png\", dpi=200, bbox_inches=\"tight\")\n",
    "plt.show()"
   ]
  },
  {
   "cell_type": "code",
   "execution_count": 57,
   "id": "f35899c9-3afa-43d8-a7dc-6655eb8825af",
   "metadata": {},
   "outputs": [
    {
     "data": {
      "image/png": "[encoded data removed]",
      "text/plain": [
       "<Figure size 1000x500 with 1 Axes>"
      ]
     },
     "metadata": {},
     "output_type": "display_data"
    }
   ],
   "source": [
    "plt.figure(figsize=(10, 5))\n",
    "sns.kdeplot(data=df, x=\"Glucose_Level\", hue=\"Diabetes\", fill=True, common_norm=False, palette=[\"#4c72b0\", \"#c44e52\"], alpha=0.4, linewidth=2)\n",
    "\n",
    "plt.title(\"Glucose Level Distribution by Diabetes Status\", fontsize=14, fontweight=\"bold\")\n",
    "plt.xlabel(\"Glucose Level\", fontsize=12)\n",
    "plt.ylabel(\"Density\", fontsize=12)\n",
    "plt.grid(axis=\"y\", linestyle=\"--\", alpha=0.3)\n",
    "plt.tight_layout()\n",
    "plt.savefig(\"images/glucoselevel_heart_attack.png\", dpi=200, bbox_inches=\"tight\")\n",
    "plt.show()"
   ]
  },
  {
   "cell_type": "code",
   "execution_count": 58,
   "id": "898b4c38-6852-4dc8-9f62-aaae2a6474f4",
   "metadata": {},
   "outputs": [
    {
     "data": {
      "image/png": "[encoded data removed]",
      "text/plain": [
       "<Figure size 600x600 with 1 Axes>"
      ]
     },
     "metadata": {},
     "output_type": "display_data"
    }
   ],
   "source": [
    "chd_counts = df[\"Ten_Year_CHD\"].value_counts()\n",
    "\n",
    "plt.figure(figsize=(6, 6))\n",
    "plt.pie(chd_counts.values,labels=chd_counts.index,autopct=\"%1.1f%%\",startangle=90,colors=[\"#4c72b0\", \"#c44e52\"],explode=(0, 0.05),shadow=False)\n",
    "\n",
    "plt.title(\"CHD Risk Distribution in the Population\", fontsize=14, fontweight=\"bold\")\n",
    "plt.tight_layout()\n",
    "plt.savefig(\"images/population_heart_attack.png\", dpi=200, bbox_inches=\"tight\")\n",
    "plt.show()"
   ]
  },
  {
   "cell_type": "markdown",
   "id": "55beafa6-0936-42fe-93ca-8ee559d0613b",
   "metadata": {},
   "source": [
    "                                                               Conclusion & Key Insights\n",
    "\n",
    "- Lifestyle factors like smoking and high BMI strongly correlate with CHD risk.\n",
    "- Medical conditions such as hypertension and diabetes are key contributors to elevated CHD probability. \n",
    "- Preventive measures focused on reducing cholesterol, controlling blood pressure, and promoting healthier habits can significantly lower long-term heart disease risk. \n",
    "\n",
    "This project demonstrates how data analytics can provide meaningful insights into public health risks and guide prevention strategies.\n"
   ]
  }
 ],
 "metadata": {
  "kernelspec": {
   "display_name": "Python [conda env:base] *",
   "language": "python",
   "name": "conda-base-py"
  },
  "language_info": {
   "codemirror_mode": {
    "name": "ipython",
    "version": 3
   },
   "file_extension": ".py",
   "mimetype": "text/x-python",
   "name": "python",
   "nbconvert_exporter": "python",
   "pygments_lexer": "ipython3",
   "version": "3.13.5"
  }
 },
 "nbformat": 4,
 "nbformat_minor": 5
}
